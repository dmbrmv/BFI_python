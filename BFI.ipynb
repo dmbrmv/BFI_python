{
 "cells": [
  {
   "cell_type": "code",
   "execution_count": 1,
   "metadata": {},
   "outputs": [],
   "source": [
    "import pandas as pd\n",
    "import numpy as np\n",
    "import math\n",
    "import glob\n",
    "import datetime\n",
    "import time\n",
    "from itertools import groupby"
   ]
  },
  {
   "cell_type": "code",
   "execution_count": 2,
   "metadata": {},
   "outputs": [],
   "source": [
    "def clump_array(a):\n",
    "\n",
    "    \"\"\"\n",
    "    Split array for arrays w/o NaN\n",
    "    \"\"\"\n",
    "\n",
    "    return [np.float64(a[s]) for s in np.ma.clump_unmasked(np.ma.masked_invalid(a))]"
   ]
  },
  {
   "cell_type": "code",
   "execution_count": 3,
   "metadata": {},
   "outputs": [
    {
     "data": {
      "text/plain": [
       "[array([1., 2., 3.]), array([5., 6., 6.]), array([3., 4.])]"
      ]
     },
     "execution_count": 3,
     "metadata": {},
     "output_type": "execute_result"
    }
   ],
   "source": [
    "clump_test = np.array([1, 2, 3, np.NaN, np.NaN, 5, 6, 6, np.NaN, 3, 4])\n",
    "clump_array(clump_test)"
   ]
  },
  {
   "cell_type": "code",
   "execution_count": 4,
   "metadata": {},
   "outputs": [
    {
     "data": {
      "text/plain": [
       "[array([1., 2., 3., 4., 5., 6.])]"
      ]
     },
     "execution_count": 4,
     "metadata": {},
     "output_type": "execute_result"
    }
   ],
   "source": [
    "clump_test_2 = [1, 2, 3, 4, 5, 6]\n",
    "clump_array(clump_test_2)"
   ]
  },
  {
   "cell_type": "code",
   "execution_count": 5,
   "metadata": {},
   "outputs": [],
   "source": [
    "import numba\n",
    "\n",
    "\"\"\"\n",
    "Calculation only applicable to array w/o NaN. \n",
    "If some exist an array is splitting with function called clump_array\n",
    "\n",
    "BFI calculation will be applied to every clump independently\n",
    "\n",
    "\"\"\"\n",
    "###################################################################\n",
    "\n",
    "\"\"\"\n",
    "First pass\n",
    "\n",
    "\"\"\"\n",
    "@numba.jit(nopython = True)\n",
    "def FirstPass(Q, alpha):\n",
    "    \n",
    "    q_f_1 = [np.float64(np.NaN) for i in Q]\n",
    "    q_b_1 = [np.float64(np.NaN) for i in Q]\n",
    "    \n",
    "    q_f_1[0] = Q[0]\n",
    "\n",
    "    for j in range(len(Q)-1):\n",
    "        \"\"\"\n",
    "        for every split calculate quick flow\n",
    "\n",
    "        \"\"\"\n",
    "        q_f_1[j+1] = alpha * q_f_1[j] + 0.5 * (1 + alpha) * (Q[j+1] - Q[j])\n",
    "\n",
    "    for j in range(len(Q)):\n",
    "        if q_f_1[j] < 0:\n",
    "            q_b_1[j] = Q[j]\n",
    "        else:\n",
    "            q_b_1[j] = Q[j] - q_f_1[j]\n",
    "\n",
    "    Q_forward_1 = [q_f_1, q_b_1]\n",
    "    \n",
    "    return Q_forward_1\n",
    "\n",
    "###################################################################\n",
    "\"\"\"\n",
    "Backward pass\n",
    "\n",
    "\"\"\"\n",
    "@numba.jit(nopython = True)\n",
    "def BackwardPass(Q_forward_1, alpha):\n",
    "\n",
    "    \"\"\"\n",
    "    Q - n-dimensional list depend on the number of clumps\n",
    "    \"\"\"\n",
    "\n",
    "    Qq = Q_forward_1[0]\n",
    "    Qb = Q_forward_1[1]\n",
    "\n",
    "    q_f_2 = [np.float64(np.NaN) for i in Qq]\n",
    "    q_b_2 = [np.float64(np.NaN) for i in Qb]\n",
    "\n",
    "\n",
    "    \"last value of forward step - first in backward step\"\n",
    "    \n",
    "    q_f_2[-1] = Qb[-1]\n",
    "\n",
    "    for j in range(len(Qq)-2, -1, -1):\n",
    "        q_f_2[j] = alpha * q_f_2[j+1] + 0.5 * (1 + alpha) * (Qb[j] - Qb[j+1])\n",
    "\n",
    "    for j in range(len(Qq)-1, -1, -1):\n",
    "        if q_f_2[j] < 0:\n",
    "            q_b_2[j] = Qb[j]\n",
    "        else:\n",
    "            q_b_2[j] = Qb[j] - q_f_2[j]\n",
    "                \n",
    "    Q_backward = [q_f_2, q_b_2]\n",
    "\n",
    "    return Q_backward\n",
    "\n",
    "###################################################################\n",
    "\"\"\"\n",
    "Forward pass\n",
    "\n",
    "\"\"\"\n",
    "@numba.jit(nopython = True)\n",
    "def ForwardPass(Q_backward, alpha):\n",
    "\n",
    "    Qq = Q_backward[0]\n",
    "    Qb = Q_backward[1]\n",
    "\n",
    "    q_f_3 = [np.float64(np.NaN) for i in Qq]\n",
    "    q_b_3 = [np.float64(np.NaN) for i in Qb]\n",
    "\n",
    "\n",
    "    \"Now first value of previous step - first here as well\"\n",
    "\n",
    "    q_f_3[0] = Qb[0]\n",
    "\n",
    "    for j in range(len(Qb)-1):\n",
    "\n",
    "        q_f_3[j+1] = alpha * q_f_3[j] + 0.5 * (1 + alpha) * (Qb[j+1] - Qb[j])\n",
    "\n",
    "    for j in range(len(Qb)):\n",
    "        if q_f_3[j] < 0:\n",
    "            q_b_3[j] = Qb[j]\n",
    "        else:\n",
    "            q_b_3[j] = Qb[j] - q_f_3[j]\n",
    "\n",
    "    Q_forward = [q_f_3, q_b_3]\n",
    "\n",
    "    return Q_forward\n",
    "\n",
    "###################################################################\n",
    "\"\"\"\n",
    "BFI calculations for given alpha\n",
    "\n",
    "\"\"\"\n",
    "@numba.jit(nopython = True)\n",
    "def BFI_calc(Q, alpha, passes, reflect):\n",
    "    \"\"\"\n",
    "    we reflect the first reflect values and the last reflect values.  \n",
    "    this is to get rid of 'warm up' problems © Anthony Ladson\n",
    "    \"\"\" \n",
    "    Qin = Q\n",
    "    \n",
    "    \"reflect our lists\"\n",
    "    \n",
    "    if len(Q)-1 > reflect:\n",
    "        Q_reflect = np.array([np.float64(np.NaN) for _ in range(len(Q) + 2 * reflect)], dtype = np.float64)\n",
    "\n",
    "        Q_reflect[:reflect] = Q[(reflect):0:-1]\n",
    "        Q_reflect[(reflect):(reflect + len(Q))] = Q\n",
    "        Q_reflect[(reflect + len(Q)):(len(Q) + 2 + 2 * reflect)] = Q[len(Q)-2:len(Q) - reflect - 2:-1]\n",
    "        \n",
    "    else:        \n",
    "        Q_reflect = np.array([np.float64(np.NaN) for _ in range(len(Q))], dtype = np.float64)                 \n",
    "        Q_reflect = Q\n",
    "    \n",
    "    Q1 = FirstPass(Q_reflect, alpha)\n",
    "\n",
    "    \"how many backwards/forward passes to we need © Anthony Ladson\"\n",
    "\n",
    "    n_pass = round(0.5 * (passes -1))\n",
    "\n",
    "    BackwardPass(Q1, alpha)\n",
    "\n",
    "    for i in range(n_pass):\n",
    "        Q1 = ForwardPass(BackwardPass(Q1, alpha), alpha)\n",
    "\n",
    "    ################# end of passes  ##############################\n",
    "    if len(Q)-1 > reflect:\n",
    "        Qbase = Q1[1][reflect:(len(Q1[1])-reflect)]\n",
    "        Qbase = [0 if j < 0 else j for j in Qbase]\n",
    "    else:\n",
    "        Qbase = Q1[1]\n",
    "        Qbase = [0 if j < 0 else j for j in Qbase]\n",
    "\n",
    "    bfi = 0\n",
    "    mean_for_period = 0\n",
    "    \n",
    "    if np.mean(Qin) == 0:\n",
    "        bfi = 0\n",
    "    else:\n",
    "        for j in Qbase:\n",
    "            mean_for_period += j/np.mean(Qin)\n",
    "        bfi = mean_for_period/len(Qbase)\n",
    "\n",
    "    return bfi, Qbase\n",
    "\n",
    "\"\"\"\n",
    "BFI calculations for 1000 alpha between 0.9 and 0.98\n",
    "\n",
    "\"\"\"\n",
    "\n",
    "import random\n",
    "@numba.jit(nopython = True)\n",
    "def BFI_calc_1000(Q, passes, reflect):\n",
    "    \"\"\"\n",
    "    Calculation was made for 1000 random splitted alpha in \n",
    "    range of 0.9 to 0.98\n",
    "    \n",
    "    we reflect the first reflect values and the last reflect values.  \n",
    "    this is to get rid of 'warm up' problems © Anthony Ladson\n",
    "    \"\"\" \n",
    "    \n",
    "    random.seed(1996)\n",
    "    alpha_coefficients = [np.float64(random.uniform(0.9, 0.98)) for i in range(1000)]\n",
    "    \n",
    "    Q = np.array([np.float64(i) for i in Q], dtype = np.float64)\n",
    "    Qin = Q\n",
    "    \n",
    "    \"reflect our lists\"\n",
    "    \n",
    "    if len(Q)-1 > reflect:\n",
    "        Q_reflect = np.array([np.float64(np.NaN) for _ in range(len(Q) + 2 * reflect)], dtype = np.float64)\n",
    "\n",
    "        Q_reflect[:reflect] = Q[(reflect):0:-1]\n",
    "        Q_reflect[(reflect):(reflect + len(Q))] = Q\n",
    "        Q_reflect[(reflect + len(Q)):(len(Q) + 2 + 2 * reflect)] = Q[len(Q)-2:len(Q) - reflect - 2:-1]\n",
    "        \n",
    "    else:        \n",
    "        Q_reflect = np.array([np.float64(np.NaN) for _ in range(len(Q))], dtype = np.float64)                 \n",
    "        Q_reflect = Q\n",
    "    \n",
    "    bfi_record = []\n",
    "    Qbase_record = []\n",
    "    \n",
    "    for i, alpha in enumerate(alpha_coefficients):\n",
    "        \n",
    "        Q1 = FirstPass(Q_reflect, alpha)\n",
    "\n",
    "        \"how many backwards/forward passes to we need © Anthony Ladson\"\n",
    "\n",
    "        n_pass = round(0.5 * (passes -1))\n",
    "\n",
    "        BackwardPass(Q1, alpha)\n",
    "\n",
    "        for i in range(n_pass):\n",
    "            Q1 = ForwardPass(BackwardPass(Q1, alpha), alpha)\n",
    "        \n",
    "\n",
    "        ################# end of passes  ##############################\n",
    "        if len(Q)-1 > reflect:\n",
    "            Qbase = Q1[1][reflect:(len(Q1[1])-reflect)]\n",
    "            Qbase = [0 if j < 0 else j for j in Qbase]\n",
    "        else:\n",
    "            Qbase = Q1[1]\n",
    "            Qbase = [0 if j < 0 else j for j in Qbase]\n",
    "        \n",
    "        Qbase_record.append(np.array(Qbase, dtype=np.float64))\n",
    "        \n",
    "        bfi = 0\n",
    "        mean_for_period = 0\n",
    "\n",
    "        if np.mean(Qin) == 0:\n",
    "            bfi = 0\n",
    "        else:\n",
    "            for j in Qbase:\n",
    "                mean_for_period += j/np.mean(Qin)\n",
    "            bfi = mean_for_period/len(Qbase)\n",
    "            \n",
    "        bfi_record.append(np.float64(bfi))\n",
    "        \n",
    "    \"\"\"\n",
    "    After 1000 calculations function return\n",
    "    mean value out of 1000\n",
    "    \n",
    "    And \"mean\" hygrograph of baseflow\n",
    "    \n",
    "    \"\"\"\n",
    "    \n",
    "    # mean BFI out of 1000\n",
    "    \n",
    "    bfi_mean = 0\n",
    "    for i in bfi_record:\n",
    "        bfi_mean += i\n",
    "    bfi_mean = bfi_mean/len(bfi_record)\n",
    "    \n",
    "    # mean hydrograph out of 1000 calculations\n",
    "\n",
    "    Qbase_mean = [np.float64(0) for i in range(len(Qbase))]\n",
    "    \n",
    "    for Qbase_temp in Qbase_record:\n",
    "        for i, value in enumerate(Qbase_temp):\n",
    "            Qbase_mean[i] += value\n",
    "    \n",
    "    Qbase_mean = [np.float64(i/len(Qbase_record)) for i in Qbase_mean]\n",
    "        \n",
    "    return bfi_mean, Qbase_mean"
   ]
  },
  {
   "cell_type": "markdown",
   "metadata": {},
   "source": [
    "### Dont activate lower function if you run the one above"
   ]
  },
  {
   "cell_type": "code",
   "execution_count": 53,
   "metadata": {},
   "outputs": [],
   "source": [
    "###################################################################\n",
    "\n",
    "\n",
    "def FirstPass(Q, alpha):\n",
    "\n",
    "    q_f_1 = [[[] for _ in range(len(i))] for i in Q]\n",
    "    q_b_1 = [[[] for _ in range(len(i))] for i in Q]\n",
    "\n",
    "    for i in range(len(Q)):           \n",
    "        \"\"\"\n",
    "        We set the first values to the vector of \"fast\" flow\n",
    "\n",
    "        \"\"\"\n",
    "        q_f_1[i][0] = Q[i][0]\n",
    "\n",
    "        for j in range(len(Q[i])-1):\n",
    "            \"\"\"\n",
    "            For each piece calculate the fast runoff\n",
    "\n",
    "            \"\"\"\n",
    "            q_f_1[i][j+1] = alpha * q_f_1[i][j] + 0.5 * (1 + alpha) * (Q[i][j+1] - Q[i][j])\n",
    "\n",
    "        for j in range(len(Q[i])):\n",
    "            if q_f_1[i][j] < 0:\n",
    "                q_b_1[i][j] = Q[i][j]\n",
    "            else:\n",
    "                q_b_1[i][j] = Q[i][j] - q_f_1[i][j]\n",
    "    \n",
    "    Q_forward_1 = [q_f_1, q_b_1]\n",
    "    \n",
    "    return q_f_1, q_b_1\n",
    "\n",
    "###################################################################\n",
    "\n",
    "def BackwardPass(Q_forward_1, alpha):\n",
    "\n",
    "    \"\"\"\n",
    "    Q - n-dimensional list depend on the number of clumps\n",
    "    \"\"\"\n",
    "\n",
    "    Qq = Q_forward_1[0]\n",
    "    Qb = Q_forward_1[1]\n",
    "\n",
    "    q_f_2 = [[[] for _ in range(len(i))] for i in Qq]\n",
    "    q_b_2 = [[[] for _ in range(len(i))] for i in Qb]\n",
    "\n",
    "    for i in range(len(Qq)):\n",
    "        \"last value of forward step - first in backward step\"\n",
    "        q_f_2[i][-1] = Qb[i][-1]\n",
    "\n",
    "        for j in range(len(Qq[i])-2, -1, -1):\n",
    "            q_f_2[i][j] = alpha * q_f_2[i][j+1] + 0.5 * (1 + alpha) * (Qb[i][j] - Qb[i][j+1])\n",
    "\n",
    "        for j in reversed(range(len(Qq[i]))):\n",
    "            if q_f_2[i][j] < 0:\n",
    "                q_b_2[i][j] = Qb[i][j]\n",
    "            else:\n",
    "                q_b_2[i][j] = Qb[i][j] - q_f_2[i][j]\n",
    "    Q_backward = [q_f_2, q_b_2]\n",
    "\n",
    "    return Q_backward\n",
    "\n",
    "###################################################################\n",
    "\n",
    "def ForwardPass(Q_backward, alpha):\n",
    "\n",
    "    Qq = Q_backward[0]\n",
    "    Qb = Q_backward[1]\n",
    "\n",
    "    q_f_3 = [[[] for _ in range(len(i))] for i in Qq]\n",
    "    q_b_3 = [[[] for _ in range(len(i))] for i in Qb]\n",
    "\n",
    "    for i in range(len(Qq)):\n",
    "\n",
    "        \"Now first value of previous step - first here as well\"\n",
    "\n",
    "        q_f_3[i][0] = Qb[i][0]\n",
    "\n",
    "        for j in range(len(Qb[i])-1):\n",
    "\n",
    "            q_f_3[i][j+1] = alpha * q_f_3[i][j] + 0.5 * (1 + alpha) * (Qb[i][j+1] - Qb[i][j])\n",
    "\n",
    "        for j in range(len(Qb[i])):\n",
    "            if q_f_3[i][j] < 0:\n",
    "                q_b_3[i][j] = Qb[i][j]\n",
    "            else:\n",
    "                q_b_3[i][j] = Qb[i][j] - q_f_3[i][j]\n",
    "\n",
    "    Q_forward = [q_f_3, q_b_3]\n",
    "\n",
    "    return Q_forward\n",
    "\n",
    "###################################################################\n",
    "\n",
    "def BFI_calc(Q, alpha, passes, reflect):\n",
    "    \"\"\"\n",
    "    we reflect the first reflect values and the last reflect values.  \n",
    "    this is to get rid of 'warm up' problems © Anthony Ladson\n",
    "    \"\"\" \n",
    "    \n",
    "    Qin = Q\n",
    "    \n",
    "    \"reflect our lists\"\n",
    "    \n",
    "    Q_reflect = [[[] for _ in range(len(i) + 2 * reflect)] for i in Q]\n",
    "\n",
    "    for i in range(len(Q_reflect)):\n",
    "\n",
    "        Q_reflect[i][:reflect] = Q[i][(reflect):0:-1] #добавляем \n",
    "\n",
    "        Q_reflect[i][(reflect):(reflect + len(Q[i]))] = Q[i]\n",
    "\n",
    "        Q_reflect[i][(reflect + len(Q[i])):(len(Q[i]) + 2 + 2 * reflect)] = Q[i][len(Q[i])-2:len(Q[i]) - reflect - 2:-1]\n",
    "    \n",
    "    Q1 = FirstPass(Q_reflect, alpha)\n",
    "\n",
    "    \"how many backwards/forward passes to we need © Anthony Ladson\"\n",
    "\n",
    "    n_pass = round(0.5 * (passes -1))\n",
    "\n",
    "    BackwardPass(Q1, alpha)\n",
    "\n",
    "    for i in range(n_pass):\n",
    "        Q1 = ForwardPass(BackwardPass(Q1, alpha), alpha)\n",
    "\n",
    "    ################# end of passes  ##############################\n",
    "    \n",
    "    Qbase = [i[reflect:(len(i)-reflect)] for i in Q1[1]]\n",
    "    Qbase = [[0 if j < 0 else j for j in i] for i in Qbase]\n",
    "    \n",
    "    # расчёт взвешенного среднего для разбитого на куски ряда расходов\n",
    "    \n",
    "    len_Qbase = len([item for sublist in Qbase for item in sublist]) # длина всех расходов, без учёта пропусков\n",
    "    weights_for_average = [len(i)/len_Qbase for i in Qbase] # вес для среднего по каждому элементу\n",
    "    \n",
    "    weighted_bfi = np.sum([weights_for_average[i] * np.nanmean(Qbase[i]/np.nanmean(Qin[i])) if np.nanmean(Qin[i]) != 0 else weights_for_average[i] * 0 for i in range(len(Qbase))]) #взвешенное среднее по выпуклой комбинации\n",
    "\n",
    "    return weighted_bfi, Qbase"
   ]
  },
  {
   "cell_type": "markdown",
   "metadata": {},
   "source": [
    "### Test functions on dataset provided by Anthony Ladson in original paper"
   ]
  },
  {
   "cell_type": "code",
   "execution_count": 6,
   "metadata": {},
   "outputs": [],
   "source": [
    "import requests\n",
    "import csv\n",
    "url = \"https://raw.github.com/TonyLadson/data/master/data/BassRiver@Loch.csv\"\n",
    "\n",
    "with requests.Session() as s:\n",
    "    download = s.get(url)\n",
    "\n",
    "    decoded_content = download.content.decode('utf-8')\n",
    "\n",
    "    cr = csv.reader(decoded_content.splitlines(), delimiter=',')\n",
    "    my_list = list(cr)\n",
    "\n",
    "my_list = [np.float64(i[0]) for i in my_list]"
   ]
  },
  {
   "cell_type": "code",
   "execution_count": 7,
   "metadata": {},
   "outputs": [
    {
     "name": "stdout",
     "output_type": "stream",
     "text": [
      "BFI on random values from 0.9 to 0.98 = 0.35213351185633607, BFI on alpha 0.98 = 0.1965758714772886\n"
     ]
    }
   ],
   "source": [
    "t = BFI_calc_1000(np.array(my_list, dtype = np.float64), 3, 30)\n",
    "t1 = BFI_calc(np.array(my_list, dtype = np.float64), 0.98, 3, 30)\n",
    "print('BFI on random values from 0.9 to 0.98 = {}, BFI on alpha 0.98 = {}'.format(t[0], t1[0]))"
   ]
  },
  {
   "cell_type": "code",
   "execution_count": 8,
   "metadata": {},
   "outputs": [],
   "source": [
    "test = pd.DataFrame({'Q':my_list, 'Baseflow': t[1]})"
   ]
  },
  {
   "cell_type": "code",
   "execution_count": 10,
   "metadata": {},
   "outputs": [
    {
     "data": {
      "text/plain": [
       "<AxesSubplot:>"
      ]
     },
     "execution_count": 10,
     "metadata": {},
     "output_type": "execute_result"
    },
    {
     "data": {
      "image/png": "[encoded data removed]",
      "text/plain": [
       "<Figure size 432x288 with 1 Axes>"
      ]
     },
     "metadata": {
      "needs_background": "light"
     },
     "output_type": "display_data"
    }
   ],
   "source": [
    "test.plot()"
   ]
  },
  {
   "cell_type": "markdown",
   "metadata": {},
   "source": [
    "### Assume if we had NaN in our list"
   ]
  },
  {
   "cell_type": "code",
   "execution_count": 11,
   "metadata": {},
   "outputs": [
    {
     "data": {
      "text/plain": [
       "[array([  5.,   7., 108., 117.,  57.]),\n",
       " array([ 62.,  48.,  40.,  35.,  73.,  82., 342., 393., 310., 275., 260.,\n",
       "        245., 256., 141., 119., 934., 382., 158.,  96., 122., 103.,  83.,\n",
       "         67., 148., 366., 161., 119.,  82., 330., 294., 261., 266., 153.,\n",
       "        247., 703., 498., 286., 163., 124.,  85.,  94.,  81.,  62.,  47.,\n",
       "         37.,  30.,  26.,  24.,  24.,  22.,  21.,  20.,  19.,  18.,  18.])]"
      ]
     },
     "execution_count": 11,
     "metadata": {},
     "output_type": "execute_result"
    }
   ],
   "source": [
    "from copy import deepcopy\n",
    "my_list_nan = deepcopy(my_list)\n",
    "my_list_nan[5:12] = [np.NaN for _ in range(len(my_list_nan[5:12]))]\n",
    "my_list_nan = pd.DataFrame({'Q':my_list_nan})\n",
    "clump_array(my_list_nan.Q.to_numpy())"
   ]
  },
  {
   "cell_type": "code",
   "execution_count": 12,
   "metadata": {},
   "outputs": [],
   "source": [
    "def bfi_recover(year_of_observation, bfi_values):\n",
    "    \n",
    "        \"\"\"\n",
    "        Restoring the baseflow row taking into account the previously \"knocked out\" gaps\n",
    "        \n",
    "        \"\"\"\n",
    "        Qbase_full = [list(group) for key, group in groupby(year_of_observation.Q.to_numpy(), key=np.isnan)] # разбитие на группы по признаку. Получается n листов. NaN и !NaN разбиты по листам\n",
    "        mask_to_refill = [~np.isnan(i).any() for i in Qbase_full] # индексируем их как одинокие булевые величины\n",
    "\n",
    "        position_index = -1\n",
    "        for j, mask in enumerate(mask_to_refill):\n",
    "            \"\"\"\n",
    "             Since the primary cut sheet from the clumped_array function has the same number of sheets as True, we restore in accordance\n",
    "\n",
    "             The position_index argument is selected according to the presence with True and addresses the desired chunk in Qbase\n",
    "\n",
    "             Everything is overwritten in the sheet, where in the overwritten values the drain values are equivalent in length\n",
    "            \"\"\"\n",
    "            if len(Qbase_full) > 1:\n",
    "                if mask:\n",
    "                    position_index += 1\n",
    "                    Qbase_full[j] = bfi_values[position_index]\n",
    "                else:\n",
    "                    position_index = position_index\n",
    "                    Qbase_full[j] = Qbase_full[j]\n",
    "            else:\n",
    "                Qbase_full[j] = [item for sublist in bfi_values for item in sublist]\n",
    "\n",
    "        if len(Qbase_full) > 1:\n",
    "            Qbase_full = [item for sublist in Qbase_full for item in sublist] # лист листов в лист с учётом NaN\n",
    "        else:\n",
    "            Qbase_full = [item for sublist in Qbase_full for item in sublist]\n",
    "\n",
    "        return Qbase_full"
   ]
  },
  {
   "cell_type": "code",
   "execution_count": 13,
   "metadata": {},
   "outputs": [],
   "source": [
    "def bfi_recover(year_of_observation, bfi_values):\n",
    "    \n",
    "        \"\"\"\n",
    "        Restoring the baseflow row taking into account the previously \"knocked out\" gaps\n",
    "        \n",
    "        \"\"\"\n",
    "        Qbase_full = [list(group) for key, group in groupby(year_of_observation.Q.to_numpy(), key=np.isnan)] # разбитие на группы по признаку. Получается n листов. NaN и !NaN разбиты по листам\n",
    "        mask_to_refill = [~np.isnan(i).any() for i in Qbase_full] # индексируем их как одинокие булевые величины\n",
    "\n",
    "        position_index = -1\n",
    "        for j, mask in enumerate(mask_to_refill):\n",
    "            \"\"\"\n",
    "             Since the primary cut sheet from the clumped_array function has the same number of sheets as True, we restore in accordance\n",
    "\n",
    "             The position_index argument is selected according to the presence with True and addresses the desired chunk in Qbase\n",
    "\n",
    "             Everything is overwritten in the sheet, where in the overwritten values the drain values are equivalent in length\n",
    "            \"\"\"\n",
    "            if len(Qbase_full) > 1:\n",
    "                if mask:\n",
    "                    position_index += 1\n",
    "                    Qbase_full[j] = bfi_values[position_index]\n",
    "                else:\n",
    "                    position_index = position_index\n",
    "                    Qbase_full[j] = Qbase_full[j]\n",
    "            else:\n",
    "                Qbase_full[j] = [item for sublist in bfi_values for item in sublist]\n",
    "\n",
    "        if len(Qbase_full) > 1:\n",
    "            Qbase_full = [item for sublist in Qbase_full for item in sublist] # лист листов в лист с учётом NaN\n",
    "        else:\n",
    "            Qbase_full = [item for sublist in Qbase_full for item in sublist]\n",
    "\n",
    "        return Qbase_full"
   ]
  },
  {
   "cell_type": "code",
   "execution_count": 14,
   "metadata": {},
   "outputs": [],
   "source": [
    "\"\"\"\n",
    "For more clumped lists we can run a loop\n",
    "\"\"\"\n",
    "Baseflow_for_Sequences = [BFI_calc(np.array(clump_array(my_list_nan.Q.to_numpy())[0], dtype = np.float64), 0.98, 3, 30)[1], BFI_calc(np.array(clump_array(my_list_nan.Q.to_numpy())[1], dtype = np.float64), 0.98, 3, 30)[1]]\n",
    "BFI_for_Sequences = [BFI_calc(np.array(clump_array(my_list_nan.Q.to_numpy())[0], dtype = np.float64), 0.98, 3, 30)[0], BFI_calc(np.array(clump_array(my_list_nan.Q.to_numpy())[1], dtype = np.float64), 0.98, 3, 30)[0]]"
   ]
  },
  {
   "cell_type": "code",
   "execution_count": 15,
   "metadata": {},
   "outputs": [],
   "source": [
    "test_with_nan = pd.DataFrame({'Q': my_list_nan.Q.to_numpy(),'Baseflow':bfi_recover(my_list_nan, Baseflow_for_Sequences)})"
   ]
  },
  {
   "cell_type": "code",
   "execution_count": 16,
   "metadata": {},
   "outputs": [
    {
     "data": {
      "text/plain": [
       "<AxesSubplot:>"
      ]
     },
     "execution_count": 16,
     "metadata": {},
     "output_type": "execute_result"
    },
    {
     "data": {
      "image/png": "[encoded data removed]",
      "text/plain": [
       "<Figure size 432x288 with 1 Axes>"
      ]
     },
     "metadata": {
      "needs_background": "light"
     },
     "output_type": "display_data"
    }
   ],
   "source": [
    "test_with_nan.plot()"
   ]
  },
  {
   "cell_type": "code",
   "execution_count": 17,
   "metadata": {},
   "outputs": [],
   "source": [
    "def weighted_bfi(list_of_bfi, list_of_baseflows, len_of_array_w_nan):\n",
    "    weights_of_clump = [[] for _ in list_of_bfi]\n",
    "    clump_Qbase = [[] for _ in list_of_bfi]\n",
    "    for i, clump in enumerate(list_of_baseflows):\n",
    "        if type(clump) == list:\n",
    "            weights_of_clump[i] = len(clump)/(len_of_array_w_nan)\n",
    "            clump_Qbase[i] = list_of_baseflows[i]\n",
    "        else:\n",
    "            weights_of_clump[i] = np.NaN\n",
    "            clump_Qbase[i] = np.NaN\n",
    "    weighted_bfi = np.sum([bfi * weights_of_clump[j] for j, bfi in enumerate(list_of_bfi)])\n",
    "    return weighted_bfi"
   ]
  },
  {
   "cell_type": "markdown",
   "metadata": {},
   "source": [
    "### Weighted BFI for sequenced list"
   ]
  },
  {
   "cell_type": "code",
   "execution_count": 18,
   "metadata": {},
   "outputs": [
    {
     "data": {
      "text/plain": [
       "0.15405254154433876"
      ]
     },
     "execution_count": 18,
     "metadata": {},
     "output_type": "execute_result"
    }
   ],
   "source": [
    "weighted_bfi(BFI_for_Sequences, Baseflow_for_Sequences, len(my_list_nan.Q.to_numpy()))"
   ]
  },
  {
   "cell_type": "code",
   "execution_count": null,
   "metadata": {},
   "outputs": [],
   "source": []
  }
 ],
 "metadata": {
  "kernelspec": {
   "display_name": "Python 3",
   "language": "python",
   "name": "python3"
  },
  "language_info": {
   "codemirror_mode": {
    "name": "ipython",
    "version": 3
   },
   "file_extension": ".py",
   "mimetype": "text/x-python",
   "name": "python",
   "nbconvert_exporter": "python",
   "pygments_lexer": "ipython3",
   "version": "3.7.8"
  }
 },
 "nbformat": 4,
 "nbformat_minor": 4
}
